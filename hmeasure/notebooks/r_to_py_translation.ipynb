{
 "cells": [
  {
   "cell_type": "code",
   "execution_count": null,
   "metadata": {},
   "outputs": [],
   "source": [
    "def h_measure_fin(LH, pi0, pi1, B0, B1):\n",
    "    return 1 - (LH/(pi0*B0 + pi1*B1))"
   ]
  },
  {
   "cell_type": "code",
   "execution_count": 4,
   "metadata": {},
   "outputs": [],
   "source": [
    "from scipy.stats import beta as beta_dist\n",
    "from scipy.special import beta as beta_func\n",
    "from scipy.special import betainc as betainc_func\n",
    "from scipy.spatial import ConvexHull as chull\n",
    "from scipy.spatial import ConvexHull\n",
    "import numpy"
   ]
  },
  {
   "cell_type": "code",
   "execution_count": 41,
   "metadata": {},
   "outputs": [],
   "source": [
    "def generate_B_coefs(a, b, n0, n1):\n",
    "    pi1 = n1 / (n1 + n0)\n",
    "    b10 = beta_func((1+a), b)\n",
    "    b01 = beta_func(a, (1+b))\n",
    "    b00 = beta_func(a, b)\n",
    "    B0 = beta_dist.cdf(x=pi1, a=(1+a), b=b) * b10/b00\n",
    "    B1 = ( beta_dist.cdf(x=1, a=a, b=(1+b)) - beta_dist.cdf(x=pi1, a=a, b=(1+b)) ) * b01/b00\n",
    "    return B0, B1"
   ]
  },
  {
   "cell_type": "code",
   "execution_count": null,
   "metadata": {},
   "outputs": [],
   "source": [
    "def generate_LH(n0, n1, G0, G1, b0, b1, debug:bool = False):\n",
    "    pi1 = n1 / (n1 + n0)\n",
    "    pi0 = n0 / (n1 + n0)\n",
    "    b0_head = b0[1:]\n",
    "    b0_norm = b0[:-1]\n",
    "    b1_head = b0[1:]\n",
    "    b1_norm = b0[:-1]\n",
    "    \n",
    "    LH_array = ( pi0 * (1 - G0) * (b0_head - b0_norm) ) + ( pi1 * G1 * (b1_head - b1_norm))\n",
    "    if debug:\n",
    "        return LH_array\n",
    "    return sum(LH_array)"
   ]
  },
  {
   "cell_type": "code",
   "execution_count": null,
   "metadata": {},
   "outputs": [],
   "source": [
    "def generate_cost(n0, n1, G0, G1):\n",
    "    pi1 = n1 / (n1 + n0)\n",
    "    pi0 = n0 / (n1 + n0)\n",
    "    cost = [0]\n",
    "    G1_head = G1[1:]\n",
    "    G1_norm = G1[:-1]\n",
    "    \n",
    "    c1 = pi1 * (G1_head - G1_norm)\n",
    "    c0 = pi0 * (G0_head - G0_norm)\n",
    "    \n",
    "    cost = cost.extend( c1 / (c1 + c0) )\n",
    "    return cost"
   ]
  },
  {
   "cell_type": "code",
   "execution_count": null,
   "metadata": {},
   "outputs": [],
   "source": [
    "def generate_b_vecs(cost, a, b):\n",
    "    b10 = beta_func((1+a), b)\n",
    "    b01 = beta_func(a, (1+b))\n",
    "    b00 = beta_func(a, b)\n",
    "    b0 = beta_dist.cdf(x=cost, a = (1 + a), b = b) * b10 / b00\n",
    "    b1 = beta_dist.cdf(x=cost, a = a, b = (1 + b)) * b01 / b00"
   ]
  },
  {
   "cell_type": "code",
   "execution_count": null,
   "metadata": {},
   "outputs": [],
   "source": [
    "def generate_beta_params(n0, n1, sev_ratio):\n",
    "    if sev_ratio is None:\n",
    "        sev_ratio = n1 / n0\n",
    "    if sev_ratio > 0:\n",
    "        a = 2\n",
    "        b = 1 + (a - 1) * 1/sev_ratio\n",
    "    elif sev_ratio < 0:\n",
    "        a = n0/(n0+n1)\n",
    "        b = n1/(n0+n1)\n",
    "    else:\n",
    "        raise ValueError\n",
    "    return a, b"
   ]
  },
  {
   "cell_type": "code",
   "execution_count": null,
   "metadata": {},
   "outputs": [],
   "source": [
    "from sklearn.metrics import roc_curve\n"
   ]
  },
  {
   "cell_type": "code",
   "execution_count": null,
   "metadata": {},
   "outputs": [],
   "source": [
    "def generate_chull_points(y, scores):\n",
    "    fpr, tpr, thresholds = roc_curve(y, scores)\n",
    "    fnr = 1 - tpr\n",
    "    \n",
    "    pairwise_max = numpy.maximum(fnr, fpr)\n",
    "    chull_candidates = numpy.array([fpr, pairwise_max]).transpose()\n",
    "    \n",
    "    assert chull_candidates.shape == (len(fnr), 2)\n",
    "    hull = ConvexHull(chull_candidates)\n",
    "    G0 = chull_candidates[hull.vertices, 0]\n",
    "    G1 = chull_candidates[hull.vertices, 1]\n",
    "    return G0, G1"
   ]
  },
  {
   "cell_type": "code",
   "execution_count": 2,
   "metadata": {},
   "outputs": [],
   "source": [
    "chull_test = [-0.626453810742332,0.183643324222082,-0.835628612410047,1.59528080213779,0.329507771815361,-0.820468384118015,0.487429052428485,0.738324705129217,0.575781351653492,-0.305388387156356]"
   ]
  },
  {
   "cell_type": "code",
   "execution_count": 5,
   "metadata": {},
   "outputs": [
    {
     "data": {
      "text/plain": [
       "array([ 1.62645381,  0.81635668,  1.83562861, -0.5952808 ,  0.67049223,\n",
       "        1.82046838,  0.51257095,  0.26167529,  0.42421865,  1.30538839])"
      ]
     },
     "execution_count": 5,
     "metadata": {},
     "output_type": "execute_result"
    }
   ],
   "source": [
    "1-numpy.array(chull_test)"
   ]
  },
  {
   "cell_type": "code",
   "execution_count": 6,
   "metadata": {},
   "outputs": [],
   "source": [
    "chull_test_2d = numpy.array([chull_test, list(range(1,11))]).transpose()"
   ]
  },
  {
   "cell_type": "code",
   "execution_count": 7,
   "metadata": {},
   "outputs": [],
   "source": [
    "assert chull_test_2d.shape == (len(chull_test), 2)"
   ]
  },
  {
   "cell_type": "code",
   "execution_count": 8,
   "metadata": {},
   "outputs": [],
   "source": [
    "hull  = chull(chull_test_2d)"
   ]
  },
  {
   "cell_type": "code",
   "execution_count": 9,
   "metadata": {},
   "outputs": [
    {
     "data": {
      "text/plain": [
       "array([2, 0, 1, 3, 8, 9, 5], dtype=int32)"
      ]
     },
     "execution_count": 9,
     "metadata": {},
     "output_type": "execute_result"
    }
   ],
   "source": [
    "hull.vertices"
   ]
  },
  {
   "cell_type": "code",
   "execution_count": 10,
   "metadata": {},
   "outputs": [
    {
     "data": {
      "text/plain": [
       "array([[-0.62645381,  1.        ],\n",
       "       [ 0.18364332,  2.        ],\n",
       "       [-0.83562861,  3.        ],\n",
       "       [ 1.5952808 ,  4.        ],\n",
       "       [ 0.32950777,  5.        ],\n",
       "       [-0.82046838,  6.        ],\n",
       "       [ 0.48742905,  7.        ],\n",
       "       [ 0.73832471,  8.        ],\n",
       "       [ 0.57578135,  9.        ],\n",
       "       [-0.30538839, 10.        ]])"
      ]
     },
     "execution_count": 10,
     "metadata": {},
     "output_type": "execute_result"
    }
   ],
   "source": [
    "chull_test_2d"
   ]
  },
  {
   "cell_type": "code",
   "execution_count": 11,
   "metadata": {},
   "outputs": [
    {
     "data": {
      "text/plain": [
       "array([[0, 2],\n",
       "       [5, 2],\n",
       "       [5, 9],\n",
       "       [8, 3],\n",
       "       [8, 9],\n",
       "       [1, 3],\n",
       "       [1, 0]], dtype=int32)"
      ]
     },
     "execution_count": 11,
     "metadata": {},
     "output_type": "execute_result"
    }
   ],
   "source": [
    "hull.simplices"
   ]
  },
  {
   "cell_type": "code",
   "execution_count": 119,
   "metadata": {},
   "outputs": [
    {
     "name": "stdout",
     "output_type": "stream",
     "text": [
      "[0 2]\n",
      "[-0.62645381 -0.83562861]\n",
      "[1. 3.]\n",
      "[5 2]\n",
      "[-0.82046838 -0.83562861]\n",
      "[6. 3.]\n",
      "[5 9]\n",
      "[-0.82046838 -0.30538839]\n",
      "[ 6. 10.]\n",
      "[8 3]\n",
      "[0.57578135 1.5952808 ]\n",
      "[9. 4.]\n",
      "[8 9]\n",
      "[ 0.57578135 -0.30538839]\n",
      "[ 9. 10.]\n",
      "[1 3]\n",
      "[0.18364332 1.5952808 ]\n",
      "[2. 4.]\n",
      "[1 0]\n",
      "[ 0.18364332 -0.62645381]\n",
      "[2. 1.]\n"
     ]
    }
   ],
   "source": [
    "for simplex in hull.simplices:\n",
    "    print(simplex)\n",
    "    print(chull_test_2d[simplex, 0])\n",
    "    print(chull_test_2d[simplex, 1])"
   ]
  },
  {
   "cell_type": "code",
   "execution_count": 13,
   "metadata": {},
   "outputs": [
    {
     "data": {
      "image/png": "[encoded data removed]",
      "text/plain": [
       "<Figure size 432x288 with 1 Axes>"
      ]
     },
     "metadata": {
      "needs_background": "light"
     },
     "output_type": "display_data"
    }
   ],
   "source": [
    "import matplotlib.pyplot as plt\n",
    "plt.plot(chull_test_2d[:,0], chull_test_2d[:,1], 'o')\n",
    "for simplex in hull.simplices:\n",
    "    plt.plot(chull_test_2d[simplex, 0], chull_test_2d[simplex, 1], 'k-')"
   ]
  },
  {
   "cell_type": "code",
   "execution_count": 15,
   "metadata": {},
   "outputs": [
    {
     "data": {
      "text/plain": [
       "[<matplotlib.lines.Line2D at 0x9cf7dd8>,\n",
       " <matplotlib.lines.Line2D at 0x9cf7ef0>]"
      ]
     },
     "execution_count": 15,
     "metadata": {},
     "output_type": "execute_result"
    },
    {
     "data": {
      "image/png": "[encoded data removed]",
      "text/plain": [
       "<Figure size 432x288 with 1 Axes>"
      ]
     },
     "metadata": {
      "needs_background": "light"
     },
     "output_type": "display_data"
    }
   ],
   "source": [
    "plt.plot(chull_test_2d[hull.simplices, 0], chull_test_2d[hull.simplices, 1], 'o')"
   ]
  },
  {
   "cell_type": "code",
   "execution_count": 136,
   "metadata": {},
   "outputs": [
    {
     "data": {
      "text/plain": [
       "array([2, 0, 1, 3, 8, 9, 5], dtype=int32)"
      ]
     },
     "execution_count": 136,
     "metadata": {},
     "output_type": "execute_result"
    }
   ],
   "source": [
    "hull.vertices"
   ]
  },
  {
   "cell_type": "code",
   "execution_count": 137,
   "metadata": {},
   "outputs": [
    {
     "data": {
      "text/plain": [
       "array([ 3.,  1.,  2.,  4.,  9., 10.,  6.])"
      ]
     },
     "execution_count": 137,
     "metadata": {},
     "output_type": "execute_result"
    }
   ],
   "source": [
    "chull_test_2d[hull.vertices,1]"
   ]
  },
  {
   "cell_type": "code",
   "execution_count": 138,
   "metadata": {},
   "outputs": [
    {
     "data": {
      "text/plain": [
       "[<matplotlib.lines.Line2D at 0xe369080>]"
      ]
     },
     "execution_count": 138,
     "metadata": {},
     "output_type": "execute_result"
    },
    {
     "data": {
      "image/png": "[encoded data removed]",
      "text/plain": [
       "<Figure size 432x288 with 1 Axes>"
      ]
     },
     "metadata": {
      "needs_background": "light"
     },
     "output_type": "display_data"
    }
   ],
   "source": [
    "plt.plot(chull_test_2d[hull.vertices,0], chull_test_2d[hull.vertices,1], 'o', lw=2)"
   ]
  },
  {
   "cell_type": "code",
   "execution_count": 51,
   "metadata": {},
   "outputs": [],
   "source": [
    "import numpy"
   ]
  },
  {
   "cell_type": "code",
   "execution_count": 65,
   "metadata": {},
   "outputs": [],
   "source": [
    "def convex_hull(points):\n",
    "    \"\"\"Computes the convex hull of a set of 2D points.\n",
    "\n",
    "    Input: an iterable sequence of (x, y) pairs representing the points.\n",
    "    Output: a list of vertices of the convex hull in counter-clockwise order,\n",
    "      starting from the vertex with the lexicographically smallest coordinates.\n",
    "    Implements Andrew's monotone chain algorithm. O(n log n) complexity.\n",
    "    \"\"\"\n",
    "\n",
    "    # Sort the points lexicographically (tuples are compared lexicographically).\n",
    "    # Remove duplicates to detect the case we have just one unique point.\n",
    "    points = sorted(set(points))\n",
    "\n",
    "    # Boring case: no points or a single point, possibly repeated multiple times.\n",
    "    if len(points) <= 1:\n",
    "        return points\n",
    "\n",
    "    # 2D cross product of OA and OB vectors, i.e. z-component of their 3D cross product.\n",
    "    # Returns a positive value, if OAB makes a counter-clockwise turn,\n",
    "    # negative for clockwise turn, and zero if the points are collinear.\n",
    "    def cross(o, a, b):\n",
    "        return (a[0] - o[0]) * (b[1] - o[1]) - (a[1] - o[1]) * (b[0] - o[0])\n",
    "\n",
    "    # Build lower hull \n",
    "    lower = []\n",
    "    for p in points:\n",
    "        while len(lower) >= 2 and cross(lower[-2], lower[-1], p) <= 0:\n",
    "            lower.pop()\n",
    "        lower.append(p)\n",
    "\n",
    "    # Build upper hull\n",
    "    upper = []\n",
    "    for p in reversed(points):\n",
    "        while len(upper) >= 2 and cross(upper[-2], upper[-1], p) <= 0:\n",
    "            upper.pop()\n",
    "        upper.append(p)\n",
    "\n",
    "    # Concatenation of the lower and upper hulls gives the convex hull.\n",
    "    # Last point of each list is omitted because it is repeated at the beginning of the other list. \n",
    "    return lower[:-1] + upper[:-1]"
   ]
  },
  {
   "cell_type": "code",
   "execution_count": null,
   "metadata": {},
   "outputs": [],
   "source": [
    "test_list = numpy.array([chull_test, list(range(1,11))]).transpose().tolist()"
   ]
  },
  {
   "cell_type": "code",
   "execution_count": 117,
   "metadata": {},
   "outputs": [
    {
     "data": {
      "text/plain": [
       "[(-0.835628612410047, 3.0),\n",
       " (-0.626453810742332, 1.0),\n",
       " (0.183643324222082, 2.0),\n",
       " (1.59528080213779, 4.0),\n",
       " (0.575781351653492, 9.0),\n",
       " (-0.305388387156356, 10.0),\n",
       " (-0.820468384118015, 6.0)]"
      ]
     },
     "execution_count": 117,
     "metadata": {},
     "output_type": "execute_result"
    }
   ],
   "source": [
    "convex_hull([tuple(x) for x in test_list])"
   ]
  },
  {
   "cell_type": "code",
   "execution_count": 140,
   "metadata": {},
   "outputs": [
    {
     "data": {
      "text/plain": [
       "numpy.ndarray"
      ]
     },
     "execution_count": 140,
     "metadata": {},
     "output_type": "execute_result"
    }
   ],
   "source": [
    "type(numpy.maximum([2, 3, 4], [1, 5, 2]))"
   ]
  },
  {
   "cell_type": "code",
   "execution_count": null,
   "metadata": {},
   "outputs": [],
   "source": []
  }
 ],
 "metadata": {
  "kernelspec": {
   "display_name": "Python [conda env:mt_smote]",
   "language": "python",
   "name": "conda-env-mt_smote-py"
  },
  "language_info": {
   "codemirror_mode": {
    "name": "ipython",
    "version": 3
   },
   "file_extension": ".py",
   "mimetype": "text/x-python",
   "name": "python",
   "nbconvert_exporter": "python",
   "pygments_lexer": "ipython3",
   "version": "3.7.3"
  }
 },
 "nbformat": 4,
 "nbformat_minor": 2
}

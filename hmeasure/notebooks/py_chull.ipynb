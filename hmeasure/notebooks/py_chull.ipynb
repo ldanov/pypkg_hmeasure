{
 "cells": [
  {
   "cell_type": "code",
   "execution_count": 2,
   "metadata": {},
   "outputs": [],
   "source": [
    "from scipy.spatial import ConvexHull\n",
    "import numpy"
   ]
  },
  {
   "cell_type": "code",
   "execution_count": 13,
   "metadata": {},
   "outputs": [],
   "source": [
    "chull_test = numpy.array([-0.626453810742332,0.183643324222082,-0.835628612410047,1.59528080213779,0.329507771815361,-0.820468384118015,0.487429052428485,0.738324705129217,0.575781351653492,-0.305388387156356])"
   ]
  },
  {
   "cell_type": "code",
   "execution_count": 14,
   "metadata": {},
   "outputs": [
    {
     "data": {
      "text/plain": [
       "array([ 1.62645381,  0.81635668,  1.83562861, -0.5952808 ,  0.67049223,\n",
       "        1.82046838,  0.51257095,  0.26167529,  0.42421865,  1.30538839])"
      ]
     },
     "execution_count": 14,
     "metadata": {},
     "output_type": "execute_result"
    }
   ],
   "source": [
    "1-numpy.array(chull_test)"
   ]
  },
  {
   "cell_type": "code",
   "execution_count": 19,
   "metadata": {},
   "outputs": [],
   "source": [
    "chull_test_2d = numpy.array(list(zip(chull_test, range(1,11))))"
   ]
  },
  {
   "cell_type": "code",
   "execution_count": 20,
   "metadata": {},
   "outputs": [
    {
     "data": {
      "text/plain": [
       "array([[-0.62645381,  1.        ],\n",
       "       [ 0.18364332,  2.        ],\n",
       "       [-0.83562861,  3.        ],\n",
       "       [ 1.5952808 ,  4.        ],\n",
       "       [ 0.32950777,  5.        ],\n",
       "       [-0.82046838,  6.        ],\n",
       "       [ 0.48742905,  7.        ],\n",
       "       [ 0.73832471,  8.        ],\n",
       "       [ 0.57578135,  9.        ],\n",
       "       [-0.30538839, 10.        ]])"
      ]
     },
     "execution_count": 20,
     "metadata": {},
     "output_type": "execute_result"
    }
   ],
   "source": [
    "chull_test_2d"
   ]
  },
  {
   "cell_type": "code",
   "execution_count": 6,
   "metadata": {},
   "outputs": [],
   "source": [
    "assert chull_test_2d.shape == (len(chull_test), 2)"
   ]
  },
  {
   "cell_type": "code",
   "execution_count": 7,
   "metadata": {},
   "outputs": [],
   "source": [
    "hull  = ConvexHull(chull_test_2d)"
   ]
  },
  {
   "cell_type": "code",
   "execution_count": 8,
   "metadata": {},
   "outputs": [
    {
     "data": {
      "text/plain": [
       "array([2, 0, 1, 3, 8, 9, 5], dtype=int32)"
      ]
     },
     "execution_count": 8,
     "metadata": {},
     "output_type": "execute_result"
    }
   ],
   "source": [
    "hull.vertices"
   ]
  },
  {
   "cell_type": "code",
   "execution_count": 26,
   "metadata": {},
   "outputs": [
    {
     "data": {
      "text/plain": [
       "True"
      ]
     },
     "execution_count": 26,
     "metadata": {},
     "output_type": "execute_result"
    }
   ],
   "source": [
    "(chull_test[hull.vertices] == chull_test_2d[hull.vertices, 0]).all()"
   ]
  },
  {
   "cell_type": "code",
   "execution_count": 27,
   "metadata": {},
   "outputs": [
    {
     "data": {
      "text/plain": [
       "array([-0.62645381,  0.18364332, -0.83562861,  1.5952808 ,  0.32950777,\n",
       "       -0.82046838,  0.48742905,  0.73832471,  0.57578135, -0.30538839])"
      ]
     },
     "execution_count": 27,
     "metadata": {},
     "output_type": "execute_result"
    }
   ],
   "source": [
    "chull_test"
   ]
  },
  {
   "cell_type": "code",
   "execution_count": 28,
   "metadata": {},
   "outputs": [
    {
     "data": {
      "text/plain": [
       "array([[0, 2],\n",
       "       [5, 2],\n",
       "       [5, 9],\n",
       "       [8, 3],\n",
       "       [8, 9],\n",
       "       [1, 3],\n",
       "       [1, 0]], dtype=int32)"
      ]
     },
     "execution_count": 28,
     "metadata": {},
     "output_type": "execute_result"
    }
   ],
   "source": [
    "hull.simplices"
   ]
  },
  {
   "cell_type": "code",
   "execution_count": 29,
   "metadata": {},
   "outputs": [
    {
     "name": "stdout",
     "output_type": "stream",
     "text": [
      "[0 2]\n",
      "[-0.62645381 -0.83562861]\n",
      "[1. 3.]\n",
      "[5 2]\n",
      "[-0.82046838 -0.83562861]\n",
      "[6. 3.]\n",
      "[5 9]\n",
      "[-0.82046838 -0.30538839]\n",
      "[ 6. 10.]\n",
      "[8 3]\n",
      "[0.57578135 1.5952808 ]\n",
      "[9. 4.]\n",
      "[8 9]\n",
      "[ 0.57578135 -0.30538839]\n",
      "[ 9. 10.]\n",
      "[1 3]\n",
      "[0.18364332 1.5952808 ]\n",
      "[2. 4.]\n",
      "[1 0]\n",
      "[ 0.18364332 -0.62645381]\n",
      "[2. 1.]\n"
     ]
    }
   ],
   "source": [
    "for simplex in hull.simplices:\n",
    "    print(simplex)\n",
    "    print(chull_test_2d[simplex, 0])\n",
    "    print(chull_test_2d[simplex, 1])"
   ]
  },
  {
   "cell_type": "code",
   "execution_count": 30,
   "metadata": {},
   "outputs": [],
   "source": [
    "import matplotlib.pyplot as plt\n",
    "plt.plot(chull_test_2d[:,0], chull_test_2d[:,1], 'o')\n",
    "for simplex in hull.simplices:\n",
    "    plt.plot(chull_test_2d[simplex, 0], chull_test_2d[simplex, 1], 'k-')"
   ]
  },
  {
   "cell_type": "code",
   "execution_count": 31,
   "metadata": {},
   "outputs": [
    {
     "data": {
      "text/plain": [
       "[<matplotlib.lines.Line2D at 0x9c80ac8>,\n",
       " <matplotlib.lines.Line2D at 0x9c80be0>]"
      ]
     },
     "execution_count": 31,
     "metadata": {},
     "output_type": "execute_result"
    },
    {
     "data": {
      "image/png": "[encoded data removed]",
      "text/plain": [
       "<Figure size 432x288 with 1 Axes>"
      ]
     },
     "metadata": {
      "needs_background": "light"
     },
     "output_type": "display_data"
    }
   ],
   "source": [
    "plt.plot(chull_test_2d[hull.simplices, 0], chull_test_2d[hull.simplices, 1], 'o')"
   ]
  },
  {
   "cell_type": "code",
   "execution_count": 32,
   "metadata": {},
   "outputs": [
    {
     "data": {
      "text/plain": [
       "array([2, 0, 1, 3, 8, 9, 5], dtype=int32)"
      ]
     },
     "execution_count": 32,
     "metadata": {},
     "output_type": "execute_result"
    }
   ],
   "source": [
    "hull.vertices"
   ]
  },
  {
   "cell_type": "code",
   "execution_count": 33,
   "metadata": {},
   "outputs": [
    {
     "data": {
      "text/plain": [
       "array([ 3.,  1.,  2.,  4.,  9., 10.,  6.])"
      ]
     },
     "execution_count": 33,
     "metadata": {},
     "output_type": "execute_result"
    }
   ],
   "source": [
    "chull_test_2d[hull.vertices,1]"
   ]
  },
  {
   "cell_type": "code",
   "execution_count": 34,
   "metadata": {},
   "outputs": [
    {
     "data": {
      "text/plain": [
       "[<matplotlib.lines.Line2D at 0x9ced898>]"
      ]
     },
     "execution_count": 34,
     "metadata": {},
     "output_type": "execute_result"
    },
    {
     "data": {
      "image/png": "[encoded data removed]",
      "text/plain": [
       "<Figure size 432x288 with 1 Axes>"
      ]
     },
     "metadata": {
      "needs_background": "light"
     },
     "output_type": "display_data"
    }
   ],
   "source": [
    "plt.plot(chull_test_2d[hull.vertices,0], chull_test_2d[hull.vertices,1], 'o', lw=2)"
   ]
  },
  {
   "cell_type": "code",
   "execution_count": 39,
   "metadata": {},
   "outputs": [],
   "source": [
    "def get_invF_points_case1():\n",
    "    invF0_list = [1, 0.993197278911565, 0.986394557823129, 0.979591836734694, 0.972789115646258, 0.965986394557823, 0.959183673469388, 0.952380952380952, 0.945578231292517, 0.938775510204082, 0.931972789115646, 0.925170068027211, 0.918367346938776, 0.91156462585034, 0.904761904761905, 0.897959183673469, 0.891156462585034, 0.884353741496599, 0.877551020408163, 0.870748299319728, 0.863945578231293, 0.857142857142857, 0.850340136054422, 0.843537414965986, 0.836734693877551, 0.829931972789116, 0.82312925170068, 0.816326530612245, 0.816326530612245, 0.80952380952381, 0.802721088435374, 0.795918367346939, 0.789115646258503, 0.782312925170068, 0.775510204081633, 0.768707482993197, 0.761904761904762, 0.755102040816326, 0.748299319727891, 0.741496598639456, 0.73469387755102, 0.727891156462585, 0.72108843537415, 0.714285714285714, 0.707482993197279, 0.700680272108844, 0.693877551020408, 0.687074829931973, 0.680272108843538, 0.673469387755102, 0.666666666666667, 0.659863945578231, 0.653061224489796, 0.646258503401361, 0.639455782312925, 0.63265306122449, 0.625850340136054, 0.619047619047619, 0.612244897959184, 0.605442176870748, 0.598639455782313, 0.591836734693878, 0.585034013605442, 0.578231292517007, 0.571428571428571, 0.564625850340136, 0.557823129251701, 0.551020408163265, 0.54421768707483, 0.537414965986395, 0.530612244897959, 0.523809523809524, 0.517006802721088, 0.510204081632653, 0.503401360544218, 0.503401360544218, 0.496598639455782, 0.489795918367347, 0.489795918367347, 0.482993197278912, 0.476190476190476, 0.469387755102041, 0.469387755102041, 0.462585034013606, 0.45578231292517, 0.448979591836735, 0.442176870748299, 0.435374149659864, 0.428571428571429, 0.421768707482993, 0.414965986394558, 0.414965986394558, 0.408163265306122, 0.408163265306122, 0.408163265306122, 0.408163265306122, 0.401360544217687, 0.394557823129252, 0.387755102040816, 0.380952380952381, 0.374149659863946, 0.36734693877551, 0.360544217687075, 0.35374149659864, 0.346938775510204, 0.340136054421769, 0.333333333333333, 0.326530612244898, 0.319727891156463, 0.312925170068027, 0.312925170068027, 0.306122448979592, 0.299319727891156, 0.292517006802721, 0.285714285714286, 0.27891156462585, 0.272108843537415, 0.272108843537415, 0.26530612244898, 0.258503401360544, 0.251700680272109, 0.244897959183674, 0.238095238095238, 0.231292517006803, 0.231292517006803, 0.231292517006803, 0.224489795918367, 0.224489795918367, 0.217687074829932, 0.217687074829932, 0.217687074829932, 0.210884353741497, 0.210884353741497, 0.210884353741497, 0.210884353741497, 0.210884353741497, 0.204081632653061, 0.197278911564626, 0.19047619047619, 0.183673469387755, 0.17687074829932, 0.17687074829932, 0.17687074829932, 0.170068027210884, 0.170068027210884, 0.170068027210884, 0.170068027210884, 0.163265306122449, 0.156462585034014, 0.156462585034014, 0.156462585034014, 0.156462585034014, 0.149659863945578, 0.142857142857143, 0.142857142857143, 0.142857142857143, 0.136054421768708, 0.136054421768708, 0.136054421768708, 0.129251700680272, 0.129251700680272, 0.122448979591837, 0.115646258503401, 0.108843537414966, 0.108843537414966, 0.108843537414966, 0.108843537414966, 0.108843537414966, 0.102040816326531, 0.0952380952380952, 0.0884353741496599, 0.0816326530612245, 0.0748299319727892, 0.0748299319727892, 0.0748299319727892, 0.0748299319727892, 0.0748299319727892, 0.0680272108843538, 0.0612244897959184, 0.0612244897959184, 0.0612244897959184, 0.0544217687074831, 0.0544217687074831, 0.0476190476190477, 0.0476190476190477, 0.0476190476190477, 0.0408163265306123, 0.0408163265306123, 0.0340136054421769, 0.0340136054421769, 0.0272108843537415, 0.0272108843537415, 0.0272108843537415, 0.0204081632653061, 0.0204081632653061, 0.0204081632653061, 0.0204081632653061, 0.0204081632653061, 0.0136054421768708, 0.0136054421768708, 0.0136054421768708, 0.0136054421768708, 0.0136054421768708, 0.0136054421768708, 0.0136054421768708, 0.0136054421768708, 0.0136054421768708, 0.0136054421768708, 0.0136054421768708, 0.0136054421768708, 0.0136054421768708, 0.0136054421768708, 0.0136054421768708, 0.0136054421768708, 0.0136054421768708, 0.0136054421768708, 0.0136054421768708, 0.0136054421768708, 0.00680272108843538, 0.00680272108843538, 0, 0, 0]\n",
    "    invF0 = numpy.array(invF0_list)\n",
    "    invF1_list = [1, 1, 1, 1, 1, 1, 1, 1, 1, 1, 1, 1, 1, 1, 1, 1, 1, 1, 1, 1, 1, 1, 1, 1, 1, 1, 1, 1, 0.986486486486487, 0.986486486486487, 0.986486486486487, 0.986486486486487, 0.986486486486487, 0.986486486486487, 0.986486486486487, 0.986486486486487, 0.986486486486487, 0.986486486486487, 0.986486486486487, 0.986486486486487, 0.986486486486487, 0.986486486486487, 0.986486486486487, 0.986486486486487, 0.986486486486487, 0.986486486486487, 0.986486486486487, 0.986486486486487, 0.986486486486487, 0.986486486486487, 0.986486486486487, 0.986486486486487, 0.986486486486487, 0.986486486486487, 0.986486486486487, 0.986486486486487, 0.986486486486487, 0.986486486486487, 0.986486486486487, 0.986486486486487, 0.986486486486487, 0.986486486486487, 0.986486486486487, 0.986486486486487, 0.986486486486487, 0.986486486486487, 0.986486486486487, 0.986486486486487, 0.986486486486487, 0.986486486486487, 0.986486486486487, 0.986486486486487, 0.986486486486487, 0.986486486486487, 0.986486486486487, 0.972972972972973, 0.972972972972973, 0.972972972972973, 0.959459459459459, 0.959459459459459, 0.959459459459459, 0.959459459459459, 0.945945945945946, 0.945945945945946, 0.945945945945946, 0.945945945945946, 0.945945945945946, 0.945945945945946, 0.945945945945946, 0.945945945945946, 0.945945945945946, 0.932432432432432, 0.932432432432432, 0.918918918918919, 0.905405405405405, 0.891891891891892, 0.891891891891892, 0.891891891891892, 0.891891891891892, 0.891891891891892, 0.891891891891892, 0.891891891891892, 0.891891891891892, 0.891891891891892, 0.891891891891892, 0.891891891891892, 0.891891891891892, 0.891891891891892, 0.891891891891892, 0.891891891891892, 0.878378378378378, 0.878378378378378, 0.878378378378378, 0.878378378378378, 0.878378378378378, 0.878378378378378, 0.878378378378378, 0.864864864864865, 0.864864864864865, 0.864864864864865, 0.864864864864865, 0.864864864864865, 0.864864864864865, 0.864864864864865, 0.851351351351351, 0.837837837837838, 0.837837837837838, 0.824324324324324, 0.824324324324324, 0.810810810810811, 0.797297297297297, 0.797297297297297, 0.783783783783784, 0.77027027027027, 0.756756756756757, 0.743243243243243, 0.743243243243243, 0.743243243243243, 0.743243243243243, 0.743243243243243, 0.743243243243243, 0.72972972972973, 0.716216216216216, 0.716216216216216, 0.702702702702703, 0.689189189189189, 0.675675675675676, 0.675675675675676, 0.675675675675676, 0.662162162162162, 0.648648648648649, 0.635135135135135, 0.635135135135135, 0.635135135135135, 0.621621621621622, 0.608108108108108, 0.608108108108108, 0.594594594594595, 0.581081081081081, 0.581081081081081, 0.567567567567568, 0.567567567567568, 0.567567567567568, 0.567567567567568, 0.554054054054054, 0.540540540540541, 0.527027027027027, 0.513513513513513, 0.513513513513513, 0.513513513513513, 0.513513513513513, 0.513513513513513, 0.513513513513513, 0.5, 0.486486486486486, 0.472972972972973, 0.459459459459459, 0.459459459459459, 0.459459459459459, 0.445945945945946, 0.432432432432432, 0.432432432432432, 0.418918918918919, 0.418918918918919, 0.405405405405405, 0.391891891891892, 0.391891891891892, 0.378378378378378, 0.378378378378378, 0.364864864864865, 0.364864864864865, 0.351351351351351, 0.337837837837838, 0.337837837837838, 0.324324324324324, 0.310810810810811, 0.297297297297297, 0.283783783783784, 0.283783783783784, 0.27027027027027, 0.256756756756757, 0.243243243243243, 0.22972972972973, 0.216216216216216, 0.202702702702703, 0.189189189189189, 0.175675675675676, 0.162162162162162, 0.148648648648649, 0.135135135135135, 0.121621621621622, 0.108108108108108, 0.0945945945945945, 0.081081081081081, 0.0675675675675675, 0.0540540540540539, 0.0405405405405405, 0.027027027027027, 0.027027027027027, 0.0135135135135135, 0.0135135135135135, 0, 0]\n",
    "    invF1 = numpy.array(invF1_list)\n",
    "    return invF0, invF1"
   ]
  },
  {
   "cell_type": "code",
   "execution_count": 41,
   "metadata": {},
   "outputs": [],
   "source": [
    "invF0, invF1 = get_invF_points_case1()"
   ]
  },
  {
   "cell_type": "code",
   "execution_count": 51,
   "metadata": {},
   "outputs": [],
   "source": [
    "pair_max = numpy.maximum(invF0, invF1)"
   ]
  },
  {
   "cell_type": "code",
   "execution_count": 60,
   "metadata": {},
   "outputs": [],
   "source": [
    "chull_cand = numpy.array(list(zip(invF0, pair_max)))"
   ]
  },
  {
   "cell_type": "code",
   "execution_count": 61,
   "metadata": {},
   "outputs": [
    {
     "data": {
      "text/plain": [
       "array([[1.        , 1.        ],\n",
       "       [0.99319728, 1.        ],\n",
       "       [0.98639456, 1.        ],\n",
       "       [0.97959184, 1.        ],\n",
       "       [0.97278912, 1.        ],\n",
       "       [0.96598639, 1.        ],\n",
       "       [0.95918367, 1.        ],\n",
       "       [0.95238095, 1.        ],\n",
       "       [0.94557823, 1.        ],\n",
       "       [0.93877551, 1.        ],\n",
       "       [0.93197279, 1.        ],\n",
       "       [0.92517007, 1.        ],\n",
       "       [0.91836735, 1.        ],\n",
       "       [0.91156463, 1.        ],\n",
       "       [0.9047619 , 1.        ],\n",
       "       [0.89795918, 1.        ],\n",
       "       [0.89115646, 1.        ],\n",
       "       [0.88435374, 1.        ],\n",
       "       [0.87755102, 1.        ],\n",
       "       [0.8707483 , 1.        ],\n",
       "       [0.86394558, 1.        ],\n",
       "       [0.85714286, 1.        ],\n",
       "       [0.85034014, 1.        ],\n",
       "       [0.84353741, 1.        ],\n",
       "       [0.83673469, 1.        ],\n",
       "       [0.82993197, 1.        ],\n",
       "       [0.82312925, 1.        ],\n",
       "       [0.81632653, 1.        ],\n",
       "       [0.81632653, 0.98648649],\n",
       "       [0.80952381, 0.98648649],\n",
       "       [0.80272109, 0.98648649],\n",
       "       [0.79591837, 0.98648649],\n",
       "       [0.78911565, 0.98648649],\n",
       "       [0.78231293, 0.98648649],\n",
       "       [0.7755102 , 0.98648649],\n",
       "       [0.76870748, 0.98648649],\n",
       "       [0.76190476, 0.98648649],\n",
       "       [0.75510204, 0.98648649],\n",
       "       [0.74829932, 0.98648649],\n",
       "       [0.7414966 , 0.98648649],\n",
       "       [0.73469388, 0.98648649],\n",
       "       [0.72789116, 0.98648649],\n",
       "       [0.72108844, 0.98648649],\n",
       "       [0.71428571, 0.98648649],\n",
       "       [0.70748299, 0.98648649],\n",
       "       [0.70068027, 0.98648649],\n",
       "       [0.69387755, 0.98648649],\n",
       "       [0.68707483, 0.98648649],\n",
       "       [0.68027211, 0.98648649],\n",
       "       [0.67346939, 0.98648649],\n",
       "       [0.66666667, 0.98648649],\n",
       "       [0.65986395, 0.98648649],\n",
       "       [0.65306122, 0.98648649],\n",
       "       [0.6462585 , 0.98648649],\n",
       "       [0.63945578, 0.98648649],\n",
       "       [0.63265306, 0.98648649],\n",
       "       [0.62585034, 0.98648649],\n",
       "       [0.61904762, 0.98648649],\n",
       "       [0.6122449 , 0.98648649],\n",
       "       [0.60544218, 0.98648649],\n",
       "       [0.59863946, 0.98648649],\n",
       "       [0.59183673, 0.98648649],\n",
       "       [0.58503401, 0.98648649],\n",
       "       [0.57823129, 0.98648649],\n",
       "       [0.57142857, 0.98648649],\n",
       "       [0.56462585, 0.98648649],\n",
       "       [0.55782313, 0.98648649],\n",
       "       [0.55102041, 0.98648649],\n",
       "       [0.54421769, 0.98648649],\n",
       "       [0.53741497, 0.98648649],\n",
       "       [0.53061224, 0.98648649],\n",
       "       [0.52380952, 0.98648649],\n",
       "       [0.5170068 , 0.98648649],\n",
       "       [0.51020408, 0.98648649],\n",
       "       [0.50340136, 0.98648649],\n",
       "       [0.50340136, 0.97297297],\n",
       "       [0.49659864, 0.97297297],\n",
       "       [0.48979592, 0.97297297],\n",
       "       [0.48979592, 0.95945946],\n",
       "       [0.4829932 , 0.95945946],\n",
       "       [0.47619048, 0.95945946],\n",
       "       [0.46938776, 0.95945946],\n",
       "       [0.46938776, 0.94594595],\n",
       "       [0.46258503, 0.94594595],\n",
       "       [0.45578231, 0.94594595],\n",
       "       [0.44897959, 0.94594595],\n",
       "       [0.44217687, 0.94594595],\n",
       "       [0.43537415, 0.94594595],\n",
       "       [0.42857143, 0.94594595],\n",
       "       [0.42176871, 0.94594595],\n",
       "       [0.41496599, 0.94594595],\n",
       "       [0.41496599, 0.93243243],\n",
       "       [0.40816327, 0.93243243],\n",
       "       [0.40816327, 0.91891892],\n",
       "       [0.40816327, 0.90540541],\n",
       "       [0.40816327, 0.89189189],\n",
       "       [0.40136054, 0.89189189],\n",
       "       [0.39455782, 0.89189189],\n",
       "       [0.3877551 , 0.89189189],\n",
       "       [0.38095238, 0.89189189],\n",
       "       [0.37414966, 0.89189189],\n",
       "       [0.36734694, 0.89189189],\n",
       "       [0.36054422, 0.89189189],\n",
       "       [0.3537415 , 0.89189189],\n",
       "       [0.34693878, 0.89189189],\n",
       "       [0.34013605, 0.89189189],\n",
       "       [0.33333333, 0.89189189],\n",
       "       [0.32653061, 0.89189189],\n",
       "       [0.31972789, 0.89189189],\n",
       "       [0.31292517, 0.89189189],\n",
       "       [0.31292517, 0.87837838],\n",
       "       [0.30612245, 0.87837838],\n",
       "       [0.29931973, 0.87837838],\n",
       "       [0.29251701, 0.87837838],\n",
       "       [0.28571429, 0.87837838],\n",
       "       [0.27891156, 0.87837838],\n",
       "       [0.27210884, 0.87837838],\n",
       "       [0.27210884, 0.86486486],\n",
       "       [0.26530612, 0.86486486],\n",
       "       [0.2585034 , 0.86486486],\n",
       "       [0.25170068, 0.86486486],\n",
       "       [0.24489796, 0.86486486],\n",
       "       [0.23809524, 0.86486486],\n",
       "       [0.23129252, 0.86486486],\n",
       "       [0.23129252, 0.85135135],\n",
       "       [0.23129252, 0.83783784],\n",
       "       [0.2244898 , 0.83783784],\n",
       "       [0.2244898 , 0.82432432],\n",
       "       [0.21768707, 0.82432432],\n",
       "       [0.21768707, 0.81081081],\n",
       "       [0.21768707, 0.7972973 ],\n",
       "       [0.21088435, 0.7972973 ],\n",
       "       [0.21088435, 0.78378378],\n",
       "       [0.21088435, 0.77027027],\n",
       "       [0.21088435, 0.75675676],\n",
       "       [0.21088435, 0.74324324],\n",
       "       [0.20408163, 0.74324324],\n",
       "       [0.19727891, 0.74324324],\n",
       "       [0.19047619, 0.74324324],\n",
       "       [0.18367347, 0.74324324],\n",
       "       [0.17687075, 0.74324324],\n",
       "       [0.17687075, 0.72972973],\n",
       "       [0.17687075, 0.71621622],\n",
       "       [0.17006803, 0.71621622],\n",
       "       [0.17006803, 0.7027027 ],\n",
       "       [0.17006803, 0.68918919],\n",
       "       [0.17006803, 0.67567568],\n",
       "       [0.16326531, 0.67567568],\n",
       "       [0.15646259, 0.67567568],\n",
       "       [0.15646259, 0.66216216],\n",
       "       [0.15646259, 0.64864865],\n",
       "       [0.15646259, 0.63513514],\n",
       "       [0.14965986, 0.63513514],\n",
       "       [0.14285714, 0.63513514],\n",
       "       [0.14285714, 0.62162162],\n",
       "       [0.14285714, 0.60810811],\n",
       "       [0.13605442, 0.60810811],\n",
       "       [0.13605442, 0.59459459],\n",
       "       [0.13605442, 0.58108108],\n",
       "       [0.1292517 , 0.58108108],\n",
       "       [0.1292517 , 0.56756757],\n",
       "       [0.12244898, 0.56756757],\n",
       "       [0.11564626, 0.56756757],\n",
       "       [0.10884354, 0.56756757],\n",
       "       [0.10884354, 0.55405405],\n",
       "       [0.10884354, 0.54054054],\n",
       "       [0.10884354, 0.52702703],\n",
       "       [0.10884354, 0.51351351],\n",
       "       [0.10204082, 0.51351351],\n",
       "       [0.0952381 , 0.51351351],\n",
       "       [0.08843537, 0.51351351],\n",
       "       [0.08163265, 0.51351351],\n",
       "       [0.07482993, 0.51351351],\n",
       "       [0.07482993, 0.5       ],\n",
       "       [0.07482993, 0.48648649],\n",
       "       [0.07482993, 0.47297297],\n",
       "       [0.07482993, 0.45945946],\n",
       "       [0.06802721, 0.45945946],\n",
       "       [0.06122449, 0.45945946],\n",
       "       [0.06122449, 0.44594595],\n",
       "       [0.06122449, 0.43243243],\n",
       "       [0.05442177, 0.43243243],\n",
       "       [0.05442177, 0.41891892],\n",
       "       [0.04761905, 0.41891892],\n",
       "       [0.04761905, 0.40540541],\n",
       "       [0.04761905, 0.39189189],\n",
       "       [0.04081633, 0.39189189],\n",
       "       [0.04081633, 0.37837838],\n",
       "       [0.03401361, 0.37837838],\n",
       "       [0.03401361, 0.36486486],\n",
       "       [0.02721088, 0.36486486],\n",
       "       [0.02721088, 0.35135135],\n",
       "       [0.02721088, 0.33783784],\n",
       "       [0.02040816, 0.33783784],\n",
       "       [0.02040816, 0.32432432],\n",
       "       [0.02040816, 0.31081081],\n",
       "       [0.02040816, 0.2972973 ],\n",
       "       [0.02040816, 0.28378378],\n",
       "       [0.01360544, 0.28378378],\n",
       "       [0.01360544, 0.27027027],\n",
       "       [0.01360544, 0.25675676],\n",
       "       [0.01360544, 0.24324324],\n",
       "       [0.01360544, 0.22972973],\n",
       "       [0.01360544, 0.21621622],\n",
       "       [0.01360544, 0.2027027 ],\n",
       "       [0.01360544, 0.18918919],\n",
       "       [0.01360544, 0.17567568],\n",
       "       [0.01360544, 0.16216216],\n",
       "       [0.01360544, 0.14864865],\n",
       "       [0.01360544, 0.13513514],\n",
       "       [0.01360544, 0.12162162],\n",
       "       [0.01360544, 0.10810811],\n",
       "       [0.01360544, 0.09459459],\n",
       "       [0.01360544, 0.08108108],\n",
       "       [0.01360544, 0.06756757],\n",
       "       [0.01360544, 0.05405405],\n",
       "       [0.01360544, 0.04054054],\n",
       "       [0.01360544, 0.02702703],\n",
       "       [0.00680272, 0.02702703],\n",
       "       [0.00680272, 0.01351351],\n",
       "       [0.        , 0.01351351],\n",
       "       [0.        , 0.        ],\n",
       "       [0.        , 0.        ]])"
      ]
     },
     "execution_count": 61,
     "metadata": {},
     "output_type": "execute_result"
    }
   ],
   "source": [
    "chull_cand"
   ]
  },
  {
   "cell_type": "code",
   "execution_count": 62,
   "metadata": {},
   "outputs": [],
   "source": [
    "hull = ConvexHull(chull_cand)"
   ]
  },
  {
   "cell_type": "code",
   "execution_count": null,
   "metadata": {},
   "outputs": [],
   "source": [
    "pair_max = numpy.maximum(invF0, invF1)\n",
    "chull_cand = numpy.array([invF0, pair_max])\n",
    "hull = ConvexHull(chull_cand)\n",
    "G0 = invF0[hull.vertices]\n",
    "G1 = invF1[hull.vertices]"
   ]
  }
 ],
 "metadata": {
  "kernelspec": {
   "display_name": "Python [conda env:mt_smote] *",
   "language": "python",
   "name": "conda-env-mt_smote-py"
  },
  "language_info": {
   "codemirror_mode": {
    "name": "ipython",
    "version": 3
   },
   "file_extension": ".py",
   "mimetype": "text/x-python",
   "name": "python",
   "nbconvert_exporter": "python",
   "pygments_lexer": "ipython3",
   "version": "3.7.3"
  }
 },
 "nbformat": 4,
 "nbformat_minor": 2
}

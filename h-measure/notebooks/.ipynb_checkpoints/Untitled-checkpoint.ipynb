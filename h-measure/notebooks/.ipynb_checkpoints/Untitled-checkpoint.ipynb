{
 "cells": [
  {
   "cell_type": "code",
   "execution_count": 1,
   "metadata": {},
   "outputs": [],
   "source": [
    "from sklearn.metrics.ranking import _binary_clf_curve"
   ]
  },
  {
   "cell_type": "code",
   "execution_count": 9,
   "metadata": {},
   "outputs": [],
   "source": [
    "import os\n",
    "import sys"
   ]
  },
  {
   "cell_type": "code",
   "execution_count": 14,
   "metadata": {},
   "outputs": [
    {
     "data": {
      "text/plain": [
       "True"
      ]
     },
     "execution_count": 14,
     "metadata": {},
     "output_type": "execute_result"
    }
   ],
   "source": [
    "os.path.exists(r'''D:\\Data Analysis\\repos''')"
   ]
  },
  {
   "cell_type": "code",
   "execution_count": 18,
   "metadata": {},
   "outputs": [],
   "source": [
    "sys.path.append(r'''D:\\Data Analysis\\repos\\ld_mt\\h-measure''')"
   ]
  },
  {
   "cell_type": "code",
   "execution_count": 19,
   "metadata": {},
   "outputs": [],
   "source": [
    "from hmeasure import hmeasure_score"
   ]
  },
  {
   "cell_type": "code",
   "execution_count": null,
   "metadata": {},
   "outputs": [],
   "source": []
  },
  {
   "cell_type": "code",
   "execution_count": 8,
   "metadata": {},
   "outputs": [
    {
     "data": {
      "text/plain": [
       "['D:\\\\Data Analysis\\\\repos\\\\ld_mt\\\\h-measure\\\\notebooks',\n",
       " 'D:\\\\bin\\\\Anaconda3\\\\envs\\\\mt_smote\\\\python37.zip',\n",
       " 'D:\\\\bin\\\\Anaconda3\\\\envs\\\\mt_smote\\\\DLLs',\n",
       " 'D:\\\\bin\\\\Anaconda3\\\\envs\\\\mt_smote\\\\lib',\n",
       " 'D:\\\\bin\\\\Anaconda3\\\\envs\\\\mt_smote',\n",
       " '',\n",
       " 'D:\\\\bin\\\\Anaconda3\\\\envs\\\\mt_smote\\\\lib\\\\site-packages',\n",
       " 'D:\\\\bin\\\\Anaconda3\\\\envs\\\\mt_smote\\\\lib\\\\site-packages\\\\IPython\\\\extensions',\n",
       " 'C:\\\\Users\\\\lubo\\\\.ipython',\n",
       " '../../h-measure/hmeasure.py',\n",
       " 'D:\\\\Data Analysis\\repos\\\\ld_mt\\\\h-measure\\\\hmeasure.py']"
      ]
     },
     "execution_count": 8,
     "metadata": {},
     "output_type": "execute_result"
    }
   ],
   "source": [
    "sys.path"
   ]
  },
  {
   "cell_type": "code",
   "execution_count": null,
   "metadata": {},
   "outputs": [],
   "source": []
  }
 ],
 "metadata": {
  "kernelspec": {
   "display_name": "Python [conda env:mt_smote]",
   "language": "python",
   "name": "conda-env-mt_smote-py"
  },
  "language_info": {
   "codemirror_mode": {
    "name": "ipython",
    "version": 3
   },
   "file_extension": ".py",
   "mimetype": "text/x-python",
   "name": "python",
   "nbconvert_exporter": "python",
   "pygments_lexer": "ipython3",
   "version": "3.7.3"
  }
 },
 "nbformat": 4,
 "nbformat_minor": 2
}

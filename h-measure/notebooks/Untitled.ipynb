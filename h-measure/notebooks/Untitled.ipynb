{
 "cells": [
  {
   "cell_type": "code",
   "execution_count": 1,
   "metadata": {},
   "outputs": [],
   "source": [
    "import numpy"
   ]
  },
  {
   "cell_type": "code",
   "execution_count": 2,
   "metadata": {},
   "outputs": [],
   "source": [
    "import os\n",
    "import sys"
   ]
  },
  {
   "cell_type": "code",
   "execution_count": 3,
   "metadata": {},
   "outputs": [],
   "source": [
    "sys.path.append(r'''D:\\Data Analysis\\repos\\ld_mt\\h-measure''')"
   ]
  },
  {
   "cell_type": "code",
   "execution_count": 4,
   "metadata": {},
   "outputs": [],
   "source": [
    "from hmeasure import hmeasure_score"
   ]
  },
  {
   "cell_type": "code",
   "execution_count": 5,
   "metadata": {},
   "outputs": [
    {
     "name": "stdout",
     "output_type": "stream",
     "text": [
      "[[1. 0.]\n",
      " [0. 0.]\n",
      " [0. 1.]] [[1. 1.]\n",
      " [0. 1.]\n",
      " [0. 1.]]\n"
     ]
    },
    {
     "name": "stderr",
     "output_type": "stream",
     "text": [
      "D:\\Data Analysis\\repos\\ld_mt\\h-measure\\hmeasure.py:52: RuntimeWarning: invalid value encountered in true_divide\n",
      "  c_more = c1 / (c1 + c0)\n"
     ]
    },
    {
     "ename": "ValueError",
     "evalue": "all the input arrays must have same number of dimensions",
     "output_type": "error",
     "traceback": [
      "\u001b[1;31m---------------------------------------------------------------------------\u001b[0m",
      "\u001b[1;31mValueError\u001b[0m                                Traceback (most recent call last)",
      "\u001b[1;32m<ipython-input-5-61ee1b2d248c>\u001b[0m in \u001b[0;36m<module>\u001b[1;34m\u001b[0m\n\u001b[1;32m----> 1\u001b[1;33m \u001b[0mhmeasure_score\u001b[0m\u001b[1;33m(\u001b[0m\u001b[0mnumpy\u001b[0m\u001b[1;33m.\u001b[0m\u001b[0marray\u001b[0m\u001b[1;33m(\u001b[0m\u001b[1;33m[\u001b[0m\u001b[1;36m1\u001b[0m\u001b[1;33m,\u001b[0m \u001b[1;36m0\u001b[0m\u001b[1;33m]\u001b[0m\u001b[1;33m)\u001b[0m\u001b[1;33m,\u001b[0m \u001b[1;33m[\u001b[0m\u001b[1;36m1\u001b[0m\u001b[1;33m,\u001b[0m \u001b[1;36m0\u001b[0m\u001b[1;33m]\u001b[0m\u001b[1;33m)\u001b[0m\u001b[1;33m\u001b[0m\u001b[1;33m\u001b[0m\u001b[0m\n\u001b[0m",
      "\u001b[1;32mD:\\Data Analysis\\repos\\ld_mt\\h-measure\\hmeasure.py\u001b[0m in \u001b[0;36mhmeasure_score\u001b[1;34m(y_true, y_score, severity_ratio, pos_label)\u001b[0m\n\u001b[0;32m    108\u001b[0m \u001b[1;33m\u001b[0m\u001b[0m\n\u001b[0;32m    109\u001b[0m     \u001b[0ma\u001b[0m\u001b[1;33m,\u001b[0m \u001b[0mb\u001b[0m \u001b[1;33m=\u001b[0m \u001b[0mgenerate_beta_params\u001b[0m\u001b[1;33m(\u001b[0m\u001b[0mn0\u001b[0m\u001b[1;33m=\u001b[0m\u001b[0mn0\u001b[0m\u001b[1;33m,\u001b[0m \u001b[0mn1\u001b[0m\u001b[1;33m=\u001b[0m\u001b[0mn1\u001b[0m\u001b[1;33m,\u001b[0m \u001b[0msev_ratio\u001b[0m\u001b[1;33m=\u001b[0m\u001b[0mseverity_ratio\u001b[0m\u001b[1;33m)\u001b[0m\u001b[1;33m\u001b[0m\u001b[1;33m\u001b[0m\u001b[0m\n\u001b[1;32m--> 110\u001b[1;33m     \u001b[0mcost\u001b[0m \u001b[1;33m=\u001b[0m \u001b[0mgenerate_cost\u001b[0m\u001b[1;33m(\u001b[0m\u001b[0mn0\u001b[0m\u001b[1;33m=\u001b[0m\u001b[0mn0\u001b[0m\u001b[1;33m,\u001b[0m \u001b[0mn1\u001b[0m\u001b[1;33m=\u001b[0m\u001b[0mn1\u001b[0m\u001b[1;33m,\u001b[0m \u001b[0mG0\u001b[0m\u001b[1;33m=\u001b[0m\u001b[0mG0\u001b[0m\u001b[1;33m,\u001b[0m \u001b[0mG1\u001b[0m\u001b[1;33m=\u001b[0m\u001b[0mG1\u001b[0m\u001b[1;33m)\u001b[0m\u001b[1;33m\u001b[0m\u001b[1;33m\u001b[0m\u001b[0m\n\u001b[0m\u001b[0;32m    111\u001b[0m     \u001b[0mb0\u001b[0m\u001b[1;33m,\u001b[0m \u001b[0mb1\u001b[0m \u001b[1;33m=\u001b[0m \u001b[0mgenerate_b_vecs\u001b[0m\u001b[1;33m(\u001b[0m\u001b[0mcost\u001b[0m\u001b[1;33m=\u001b[0m\u001b[0mcost\u001b[0m\u001b[1;33m,\u001b[0m \u001b[0ma\u001b[0m\u001b[1;33m=\u001b[0m\u001b[0ma\u001b[0m\u001b[1;33m,\u001b[0m \u001b[0mb\u001b[0m\u001b[1;33m=\u001b[0m\u001b[0mb\u001b[0m\u001b[1;33m)\u001b[0m\u001b[1;33m\u001b[0m\u001b[1;33m\u001b[0m\u001b[0m\n\u001b[0;32m    112\u001b[0m \u001b[1;33m\u001b[0m\u001b[0m\n",
      "\u001b[1;32mD:\\Data Analysis\\repos\\ld_mt\\h-measure\\hmeasure.py\u001b[0m in \u001b[0;36mgenerate_cost\u001b[1;34m(n0, n1, G0, G1)\u001b[0m\n\u001b[0;32m     52\u001b[0m     \u001b[0mc_more\u001b[0m \u001b[1;33m=\u001b[0m \u001b[0mc1\u001b[0m \u001b[1;33m/\u001b[0m \u001b[1;33m(\u001b[0m\u001b[0mc1\u001b[0m \u001b[1;33m+\u001b[0m \u001b[0mc0\u001b[0m\u001b[1;33m)\u001b[0m\u001b[1;33m\u001b[0m\u001b[1;33m\u001b[0m\u001b[0m\n\u001b[0;32m     53\u001b[0m \u001b[1;33m\u001b[0m\u001b[0m\n\u001b[1;32m---> 54\u001b[1;33m     \u001b[0mcost\u001b[0m \u001b[1;33m=\u001b[0m \u001b[0mnumpy\u001b[0m\u001b[1;33m.\u001b[0m\u001b[0mconcatenate\u001b[0m\u001b[1;33m(\u001b[0m\u001b[1;33m[\u001b[0m\u001b[1;33m[\u001b[0m\u001b[1;36m0\u001b[0m\u001b[1;33m]\u001b[0m\u001b[1;33m,\u001b[0m \u001b[0mc_more\u001b[0m\u001b[1;33m,\u001b[0m \u001b[1;33m[\u001b[0m\u001b[1;36m1\u001b[0m\u001b[1;33m]\u001b[0m\u001b[1;33m]\u001b[0m\u001b[1;33m)\u001b[0m\u001b[1;33m\u001b[0m\u001b[1;33m\u001b[0m\u001b[0m\n\u001b[0m\u001b[0;32m     55\u001b[0m \u001b[1;33m\u001b[0m\u001b[0m\n\u001b[0;32m     56\u001b[0m     \u001b[1;32mreturn\u001b[0m \u001b[0mcost\u001b[0m\u001b[1;33m\u001b[0m\u001b[1;33m\u001b[0m\u001b[0m\n",
      "\u001b[1;31mValueError\u001b[0m: all the input arrays must have same number of dimensions"
     ]
    }
   ],
   "source": [
    "hmeasure_score(numpy.array([1, 0]), [1, 0])"
   ]
  },
  {
   "cell_type": "code",
   "execution_count": 6,
   "metadata": {},
   "outputs": [],
   "source": [
    "y_true = numpy.array([True,False])"
   ]
  },
  {
   "cell_type": "code",
   "execution_count": 7,
   "metadata": {},
   "outputs": [
    {
     "data": {
      "text/plain": [
       "array([ True, False])"
      ]
     },
     "execution_count": 7,
     "metadata": {},
     "output_type": "execute_result"
    }
   ],
   "source": [
    "y_true  == 1"
   ]
  },
  {
   "cell_type": "code",
   "execution_count": 8,
   "metadata": {},
   "outputs": [],
   "source": [
    "import numpy"
   ]
  },
  {
   "cell_type": "code",
   "execution_count": 9,
   "metadata": {},
   "outputs": [],
   "source": [
    "true_y = numpy.array([False, False, True, True, False, False, False, False, False, False, True, True, False, True, False, False, False, False, False, False, False, False, False, False, False, False, False, False, False, False, False, True, False, False, True, False, False, True, True, True, False, False, False, False, True, False, False, True, False, False, False, True, True, True, False, False, True, False, True, False, False, False, True, False, True, False, True, False, True, False, False, False, False, True, True, False, False, True, False, True, False, False, True, False, True, False, False, True, True, True, True, False, False, True, False, True, False, False, False, False, False, False, True, True, False, False, False, True, False, False, False, False, False, True, False, False, False, True, False, True, False, False, True, True, False, False, True, True, False, False, False, True, False, False, False, False, False, False, False, False, True, False, True, False, False, False, True, False, False, False, False, True, True, True, False, False, False, False, True, False, True, True, False, False, False, False, False, False, False, False, True, True, False, False, False, False, False, False, False, True, True, False, False, False, True, False, True, True, True, False, True, True, False, False, True, False, False, True, False, False, False, True, True, True, False, False, False, True, False, False, True, False, False, False, True, False, True, True, True, False, False])"
   ]
  },
  {
   "cell_type": "code",
   "execution_count": 10,
   "metadata": {},
   "outputs": [],
   "source": [
    "pred_y = numpy.array([0.021992219683176, 0.0261283707394984, 0.617550469398662, 0.507844207594384, 0.0689278415230867, 0.634666532184113, 0.0333194568213845, 0.172182005960011, 0.573240925914627, 0.171196797249527, 0.140117673851262, 0.524708416048729, 0.110873962537451, 0.97421711638746, 0.0363991529189672, 0.0369268806132579, 0.0547088125342946, 0.814621308201928, 0.119531604319641, 0.107642371144209, 0.0166290869179551, 0.430180757181547, 0.398788439352216, 0.24468921596579, 0.0399946322344566, 0.205358184240838, 0.737755170890566, 0.120406903890372, 0.252361035025407, 0.301483557295849, 0.130322152269363, 0.529561011317475, 0.228540311304375, 0.289372326036415, 0.741898786489765, 0.103663747412982, 0.159053009511051, 0.177013692327633, 0.596561315187138, 0.68791338415648, 0.0764654110832665, 0.0380429047162668, 0.0955794593610204, 0.308606923152478, 0.953632418463787, 0.758135038783222, 0.0394769117532799, 0.995240631824313, 0.273044259437478, 0.183078179518509, 0.0211745215685914, 0.953505732985242, 0.610883178976933, 0.503535526852141, 0.170239420661519, 0.0662416937367266, 0.952569127666721, 0.0235124930614956, 0.389843327997835, 0.402892556387082, 0.45409263606926, 0.0442499705696209, 0.759598734548082, 0.995607413363586, 0.666354296358261, 0.0373860753910581, 0.875427700148495, 0.0312333174412777, 0.498777766954593, 0.500497017571849, 0.849971946355577, 0.637359280744781, 0.0296903193364025, 0.181761985231305, 0.963888010432597, 0.196596621421334, 0.675297846906073, 0.904176051620105, 0.332259139268038, 0.180421711491755, 0.112724618252376, 0.483760804866299, 0.551229444922031, 0.0388069929536769, 0.1511996740988, 0.804054237811406, 0.194177661892815, 0.348575449499428, 0.725153691304662, 0.375548457677746, 0.338073172935937, 0.123283599859036, 0.223736202162603, 0.946683017067355, 0.216056810823931, 0.23859048208279, 0.152281849808273, 0.589678698555602, 0.0222761439945392, 0.130558648851825, 0.638897143483432, 0.208228392619354, 0.316843558106919, 0.915287559980507, 0.207860634990667, 0.546852875418941, 0.045944125119147, 0.990131955944472, 0.0294883427491257, 0.087090453978068, 0.0220009700400732, 0.083692989538496, 0.0348756949481749, 0.361769825276756, 0.205476220689286, 0.100269237406797, 0.087344945805354, 0.840814107315031, 0.133027003133436, 0.855985030148661, 0.167775025538271, 0.764539704395445, 0.656383505398512, 0.15561205601821, 0.0597424375476083, 0.175077551108632, 0.545956958818802, 0.0403563461533558, 0.0320401836850442, 0.0437654936091769, 0.219964964192491, 0.998060547171893, 0.0776128454283348, 0.0132921699364248, 0.291072027110432, 0.355301191253285, 0.0698230598140226, 0.0502067185947528, 0.628847897068818, 0.207090577985603, 0.546256296690515, 0.162633345257203, 0.385819544028046, 0.52366763615621, 0.0975739075113509, 0.0534048605432653, 0.352871497118956, 0.0432674910111086, 0.12640028022513, 0.0859671143275691, 0.11102000863473, 0.287507619711779, 0.489038860711864, 0.812509235682482, 0.0144399383814023, 0.0334806593267197, 0.104836371130298, 0.399021697336736, 0.46793625229057, 0.133789972891713, 0.956483540507921, 0.952616656918121, 0.082480835719772, 0.0940482501576516, 0.049892554853392, 0.675061034197803, 0.136399152900304, 0.154474153673202, 0.531920853672081, 0.147573487747709, 0.836471007924649, 0.922881501476747, 0.169819535736351, 0.62458206076582, 0.0819786680244113, 0.251914613500917, 0.0218373572001962, 0.514684405971582, 0.501085110678586, 0.82749345131409, 0.651988072986418, 0.104090597009933, 0.0525477505214838, 0.0845612209633105, 0.601721283224274, 0.015312908385536, 0.665154673507338, 0.741111483518058, 0.456023535483595, 0.0362621607677878, 0.1730805893012, 0.318586832670877, 0.741688675961793, 0.211482333518581, 0.742567383536038, 0.130621394573414, 0.0298506530347167, 0.487408551860671, 0.196911036208975, 0.142830858793263, 0.29857631503355, 0.819791019639498, 0.943983828869089, 0.884707910351011, 0.154967258276995, 0.339931767822726, 0.299198463354478, 0.918752242547175, 0.169886998769205, 0.102694015426334, 0.887166980555358, 0.0711477127378713, 0.991733542344771, 0.564759907903372, 0.781921391247473, 0.241198494244602, 0.811850768764747, 0.511660796813233, 0.947702671244453, 0.286781442903701, 0.0518662316348774])"
   ]
  },
  {
   "cell_type": "code",
   "execution_count": 11,
   "metadata": {},
   "outputs": [
    {
     "name": "stdout",
     "output_type": "stream",
     "text": [
      "[[1.         0.        ]\n",
      " [0.21088435 1.        ]\n",
      " [0.07482993 0.02721088]\n",
      " [0.         0.        ]\n",
      " [0.         0.01360544]\n",
      " [0.02040816 0.02721088]\n",
      " [0.02040816 0.01360544]\n",
      " [0.17687075 0.21088435]\n",
      " [0.17687075 0.07482993]] [[1.         1.        ]\n",
      " [0.21088435 1.        ]\n",
      " [0.48648649 0.63513514]\n",
      " [0.98648649 1.        ]\n",
      " [0.98648649 0.71621622]\n",
      " [0.66216216 0.63513514]\n",
      " [0.66216216 0.71621622]\n",
      " [0.25675676 0.21088435]\n",
      " [0.25675676 0.48648649]]\n"
     ]
    },
    {
     "ename": "ValueError",
     "evalue": "all the input arrays must have same number of dimensions",
     "output_type": "error",
     "traceback": [
      "\u001b[1;31m---------------------------------------------------------------------------\u001b[0m",
      "\u001b[1;31mValueError\u001b[0m                                Traceback (most recent call last)",
      "\u001b[1;32m<ipython-input-11-3378f0f71c60>\u001b[0m in \u001b[0;36m<module>\u001b[1;34m\u001b[0m\n\u001b[1;32m----> 1\u001b[1;33m \u001b[0mhmeasure_score\u001b[0m\u001b[1;33m(\u001b[0m\u001b[0mtrue_y\u001b[0m\u001b[1;33m,\u001b[0m \u001b[0mpred_y\u001b[0m\u001b[1;33m)\u001b[0m\u001b[1;33m\u001b[0m\u001b[1;33m\u001b[0m\u001b[0m\n\u001b[0m",
      "\u001b[1;32mD:\\Data Analysis\\repos\\ld_mt\\h-measure\\hmeasure.py\u001b[0m in \u001b[0;36mhmeasure_score\u001b[1;34m(y_true, y_score, severity_ratio, pos_label)\u001b[0m\n\u001b[0;32m    108\u001b[0m \u001b[1;33m\u001b[0m\u001b[0m\n\u001b[0;32m    109\u001b[0m     \u001b[0ma\u001b[0m\u001b[1;33m,\u001b[0m \u001b[0mb\u001b[0m \u001b[1;33m=\u001b[0m \u001b[0mgenerate_beta_params\u001b[0m\u001b[1;33m(\u001b[0m\u001b[0mn0\u001b[0m\u001b[1;33m=\u001b[0m\u001b[0mn0\u001b[0m\u001b[1;33m,\u001b[0m \u001b[0mn1\u001b[0m\u001b[1;33m=\u001b[0m\u001b[0mn1\u001b[0m\u001b[1;33m,\u001b[0m \u001b[0msev_ratio\u001b[0m\u001b[1;33m=\u001b[0m\u001b[0mseverity_ratio\u001b[0m\u001b[1;33m)\u001b[0m\u001b[1;33m\u001b[0m\u001b[1;33m\u001b[0m\u001b[0m\n\u001b[1;32m--> 110\u001b[1;33m     \u001b[0mcost\u001b[0m \u001b[1;33m=\u001b[0m \u001b[0mgenerate_cost\u001b[0m\u001b[1;33m(\u001b[0m\u001b[0mn0\u001b[0m\u001b[1;33m=\u001b[0m\u001b[0mn0\u001b[0m\u001b[1;33m,\u001b[0m \u001b[0mn1\u001b[0m\u001b[1;33m=\u001b[0m\u001b[0mn1\u001b[0m\u001b[1;33m,\u001b[0m \u001b[0mG0\u001b[0m\u001b[1;33m=\u001b[0m\u001b[0mG0\u001b[0m\u001b[1;33m,\u001b[0m \u001b[0mG1\u001b[0m\u001b[1;33m=\u001b[0m\u001b[0mG1\u001b[0m\u001b[1;33m)\u001b[0m\u001b[1;33m\u001b[0m\u001b[1;33m\u001b[0m\u001b[0m\n\u001b[0m\u001b[0;32m    111\u001b[0m     \u001b[0mb0\u001b[0m\u001b[1;33m,\u001b[0m \u001b[0mb1\u001b[0m \u001b[1;33m=\u001b[0m \u001b[0mgenerate_b_vecs\u001b[0m\u001b[1;33m(\u001b[0m\u001b[0mcost\u001b[0m\u001b[1;33m=\u001b[0m\u001b[0mcost\u001b[0m\u001b[1;33m,\u001b[0m \u001b[0ma\u001b[0m\u001b[1;33m=\u001b[0m\u001b[0ma\u001b[0m\u001b[1;33m,\u001b[0m \u001b[0mb\u001b[0m\u001b[1;33m=\u001b[0m\u001b[0mb\u001b[0m\u001b[1;33m)\u001b[0m\u001b[1;33m\u001b[0m\u001b[1;33m\u001b[0m\u001b[0m\n\u001b[0;32m    112\u001b[0m \u001b[1;33m\u001b[0m\u001b[0m\n",
      "\u001b[1;32mD:\\Data Analysis\\repos\\ld_mt\\h-measure\\hmeasure.py\u001b[0m in \u001b[0;36mgenerate_cost\u001b[1;34m(n0, n1, G0, G1)\u001b[0m\n\u001b[0;32m     52\u001b[0m     \u001b[0mc_more\u001b[0m \u001b[1;33m=\u001b[0m \u001b[0mc1\u001b[0m \u001b[1;33m/\u001b[0m \u001b[1;33m(\u001b[0m\u001b[0mc1\u001b[0m \u001b[1;33m+\u001b[0m \u001b[0mc0\u001b[0m\u001b[1;33m)\u001b[0m\u001b[1;33m\u001b[0m\u001b[1;33m\u001b[0m\u001b[0m\n\u001b[0;32m     53\u001b[0m \u001b[1;33m\u001b[0m\u001b[0m\n\u001b[1;32m---> 54\u001b[1;33m     \u001b[0mcost\u001b[0m \u001b[1;33m=\u001b[0m \u001b[0mnumpy\u001b[0m\u001b[1;33m.\u001b[0m\u001b[0mconcatenate\u001b[0m\u001b[1;33m(\u001b[0m\u001b[1;33m[\u001b[0m\u001b[1;33m[\u001b[0m\u001b[1;36m0\u001b[0m\u001b[1;33m]\u001b[0m\u001b[1;33m,\u001b[0m \u001b[0mc_more\u001b[0m\u001b[1;33m,\u001b[0m \u001b[1;33m[\u001b[0m\u001b[1;36m1\u001b[0m\u001b[1;33m]\u001b[0m\u001b[1;33m]\u001b[0m\u001b[1;33m)\u001b[0m\u001b[1;33m\u001b[0m\u001b[1;33m\u001b[0m\u001b[0m\n\u001b[0m\u001b[0;32m     55\u001b[0m \u001b[1;33m\u001b[0m\u001b[0m\n\u001b[0;32m     56\u001b[0m     \u001b[1;32mreturn\u001b[0m \u001b[0mcost\u001b[0m\u001b[1;33m\u001b[0m\u001b[1;33m\u001b[0m\u001b[0m\n",
      "\u001b[1;31mValueError\u001b[0m: all the input arrays must have same number of dimensions"
     ]
    }
   ],
   "source": [
    "hmeasure_score(true_y, pred_y)"
   ]
  },
  {
   "cell_type": "code",
   "execution_count": null,
   "metadata": {},
   "outputs": [],
   "source": [
    "from hmeasure import generate_chull_points"
   ]
  },
  {
   "cell_type": "code",
   "execution_count": null,
   "metadata": {},
   "outputs": [],
   "source": [
    "generate_chull_points(true_y, pred_y, pos_label=None)"
   ]
  },
  {
   "cell_type": "code",
   "execution_count": null,
   "metadata": {},
   "outputs": [],
   "source": []
  }
 ],
 "metadata": {
  "kernelspec": {
   "display_name": "Python [conda env:mt_smote]",
   "language": "python",
   "name": "conda-env-mt_smote-py"
  },
  "language_info": {
   "codemirror_mode": {
    "name": "ipython",
    "version": 3
   },
   "file_extension": ".py",
   "mimetype": "text/x-python",
   "name": "python",
   "nbconvert_exporter": "python",
   "pygments_lexer": "ipython3",
   "version": "3.7.3"
  }
 },
 "nbformat": 4,
 "nbformat_minor": 2
}
